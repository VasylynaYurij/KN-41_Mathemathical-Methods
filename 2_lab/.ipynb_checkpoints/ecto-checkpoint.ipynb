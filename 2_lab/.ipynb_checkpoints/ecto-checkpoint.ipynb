{
 "cells": [
  {
   "cell_type": "code",
   "execution_count": null,
   "id": "dea5bdf2",
   "metadata": {},
   "outputs": [],
   "source": [
    "import numpy as np\n",
    "import matplotlib.pyplot as plt\n",
    "\n",
    "# Завантаження даних з файлу\n",
    "data = np.loadtxt('data.txt', delimiter='\\t', dtype=int)\n",
    "# Перевірка завантажених даних\n",
    "print(\"Дані розмірність:\\n\", data.shape)\n",
    "# Колонка для Ore\n",
    "#ore_test = data[:, 0]  \n",
    "#print(f\"Перший елемент {ore_test}\")"
   ]
  }
 ],
 "metadata": {
  "language_info": {
   "name": "python"
  }
 },
 "nbformat": 4,
 "nbformat_minor": 5
}
